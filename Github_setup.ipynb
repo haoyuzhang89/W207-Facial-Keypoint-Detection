{
  "nbformat": 4,
  "nbformat_minor": 0,
  "metadata": {
    "colab": {
      "name": "Github_setup.ipynb",
      "provenance": [],
      "authorship_tag": "ABX9TyO+4+p1UAF2BkVoQ+AcDRx7",
      "include_colab_link": true
    },
    "kernelspec": {
      "name": "python3",
      "display_name": "Python 3"
    },
    "language_info": {
      "name": "python"
    }
  },
  "cells": [
    {
      "cell_type": "markdown",
      "metadata": {
        "id": "view-in-github",
        "colab_type": "text"
      },
      "source": [
        "<a href=\"https://colab.research.google.com/github/stemlock/facial_keypoint_detection/blob/master/Github_setup.ipynb\" target=\"_parent\"><img src=\"https://colab.research.google.com/assets/colab-badge.svg\" alt=\"Open In Colab\"/></a>"
      ]
    },
    {
      "cell_type": "code",
      "metadata": {
        "colab": {
          "base_uri": "https://localhost:8080/"
        },
        "id": "xknXvwhJxO-z",
        "outputId": "ba93c816-afc3-469c-b742-5cc91157b795"
      },
      "source": [
        "# Mount your drive\n",
        "from google.colab import drive\n",
        "drive.mount('/content/gdrive')"
      ],
      "execution_count": null,
      "outputs": [
        {
          "output_type": "stream",
          "text": [
            "Mounted at /content/gdrive\n"
          ],
          "name": "stdout"
        }
      ]
    },
    {
      "cell_type": "code",
      "metadata": {
        "id": "Eb9QoYCuxkZH"
      },
      "source": [
        "# Make the directory for the repo to be cloned into\n",
        "!mkdir gdrive/MyDrive/207_final_project"
      ],
      "execution_count": null,
      "outputs": []
    },
    {
      "cell_type": "code",
      "metadata": {
        "colab": {
          "base_uri": "https://localhost:8080/"
        },
        "id": "olUH5v9Ax8w8",
        "outputId": "b70fb20e-b007-47f9-923d-91fe55bc3bb7"
      },
      "source": [
        "# You should see the '207_final_project' folder\n",
        "!cd gdrive/MyDrive && ls"
      ],
      "execution_count": null,
      "outputs": [
        {
          "output_type": "stream",
          "text": [
            " 207_final_project\n",
            "'Colab Notebooks'\n",
            "'Notes for W203 Lab 1.gdoc'\n",
            "'Osamu Temlock Resume February 2021.pdf'\n",
            " Sam_Temlock.jpeg\n",
            "'Team 4: Draft Research Design Report.gdoc'\n",
            " UC_Berkeley_Masters_Transcript.pdf\n",
            "'Untitled document.gdoc'\n",
            " W200_Project2\n",
            "'W201 Research Design and Applications for Data and Analysis'\n",
            "'W203: Statistics for Data Science'\n",
            "'W207 Final Project'\n"
          ],
          "name": "stdout"
        }
      ]
    },
    {
      "cell_type": "code",
      "metadata": {
        "colab": {
          "base_uri": "https://localhost:8080/"
        },
        "id": "xrEsUdV9yDze",
        "outputId": "c93793b0-e2e8-4ca7-c597-aa0f96b027b7"
      },
      "source": [
        "# Clone the repo to your Google Drive \n",
        "# Replace the 'access_token' with your github access token\n",
        "! git clone https://'access_token'@github.com/stemlock/facial_keypoint_detection gdrive/MyDrive/207_final_project"
      ],
      "execution_count": null,
      "outputs": [
        {
          "output_type": "stream",
          "text": [
            "Cloning into 'gdrive/MyDrive/207_final_project'...\n",
            "warning: redirecting to https://f9dcda31b96a81a4fe424620fc0c34a1fc964efe@github.com/stemlock/facial_keypoint_detection/\n",
            "remote: Enumerating objects: 11, done.\u001b[K\n",
            "remote: Counting objects: 100% (11/11), done.\u001b[K\n",
            "remote: Compressing objects: 100% (10/10), done.\u001b[K\n",
            "remote: Total 19 (delta 2), reused 7 (delta 1), pack-reused 8\u001b[K\n",
            "Unpacking objects: 100% (19/19), done.\n"
          ],
          "name": "stdout"
        }
      ]
    },
    {
      "cell_type": "code",
      "metadata": {
        "colab": {
          "base_uri": "https://localhost:8080/"
        },
        "id": "GqoF-iUfy8oT",
        "outputId": "f179277b-e42d-4ccb-f0ae-79a751a8ec2e"
      },
      "source": [
        "!cd gdrive/MyDrive/207_final_project && ls"
      ],
      "execution_count": null,
      "outputs": [
        {
          "output_type": "stream",
          "text": [
            "data\n",
            "FinalProjectBaseline_Blodgett_Temlock_Zhang_Zhang.ipynb\n",
            "Master_Code.ipynb\n",
            "README.md\n",
            "w251_haoyu_Sampling_Cropping_reference.ipynb\n"
          ],
          "name": "stdout"
        }
      ]
    },
    {
      "cell_type": "code",
      "metadata": {
        "id": "pnJOoallzsod"
      },
      "source": [
        ""
      ],
      "execution_count": null,
      "outputs": []
    }
  ]
}