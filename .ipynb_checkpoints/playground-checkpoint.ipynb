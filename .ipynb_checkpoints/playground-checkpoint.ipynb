{
 "cells": [
  {
   "cell_type": "code",
   "execution_count": 1,
   "id": "acting-omega",
   "metadata": {},
   "outputs": [],
   "source": [
    "from PIL import Image\n",
    "from numpy import asarray\n",
    "from numpy import save\n",
    "from numpy import load\n",
    "from numpy import savez_compressed\n",
    "\n",
    "from matplotlib import image\n",
    "from matplotlib import pyplot as plt\n",
    "\n",
    "import pandas as pd\n",
    "import numpy as np\n",
    "import random\n",
    "plt.style.use('default')"
   ]
  },
  {
   "cell_type": "markdown",
   "id": "prerequisite-toddler",
   "metadata": {},
   "source": [
    "## Unzip files"
   ]
  },
  {
   "cell_type": "code",
   "execution_count": 3,
   "id": "mathematical-mineral",
   "metadata": {},
   "outputs": [
    {
     "name": "stdout",
     "output_type": "stream",
     "text": [
      "/Users/haoyuzhang/facial_keypoint_detection\n"
     ]
    }
   ],
   "source": [
    "!pwd"
   ]
  },
  {
   "cell_type": "code",
   "execution_count": 4,
   "id": "antique-honor",
   "metadata": {},
   "outputs": [
    {
     "name": "stdout",
     "output_type": "stream",
     "text": [
      "Archive:  data/test.zip\n",
      "  inflating: test.csv                \n"
     ]
    }
   ],
   "source": [
    "!unzip data/test.zip"
   ]
  },
  {
   "cell_type": "code",
   "execution_count": 6,
   "id": "hollow-producer",
   "metadata": {},
   "outputs": [
    {
     "name": "stdout",
     "output_type": "stream",
     "text": [
      "Archive:  data/training.zip\n",
      "  inflating: training.csv            \n"
     ]
    }
   ],
   "source": [
    "!unzip data/training.zip"
   ]
  },
  {
   "cell_type": "markdown",
   "id": "bright-nelson",
   "metadata": {},
   "source": [
    "## Overview of csv data "
   ]
  },
  {
   "cell_type": "code",
   "execution_count": 63,
   "id": "muslim-sending",
   "metadata": {},
   "outputs": [],
   "source": [
    "test = pd.read_csv('data/test.csv')\n",
    "training = pd.read_csv('data/training.csv')\n",
    "id_table = pd.read_csv('data/IdLookupTable.csv')"
   ]
  },
  {
   "cell_type": "code",
   "execution_count": 3,
   "id": "particular-vampire",
   "metadata": {},
   "outputs": [
    {
     "data": {
      "text/plain": [
       "(1783, 2)"
      ]
     },
     "execution_count": 3,
     "metadata": {},
     "output_type": "execute_result"
    }
   ],
   "source": [
    "test.shape"
   ]
  },
  {
   "cell_type": "code",
   "execution_count": 4,
   "id": "interesting-final",
   "metadata": {},
   "outputs": [
    {
     "data": {
      "text/plain": [
       "(7049, 31)"
      ]
     },
     "execution_count": 4,
     "metadata": {},
     "output_type": "execute_result"
    }
   ],
   "source": [
    "training.shape"
   ]
  },
  {
   "cell_type": "code",
   "execution_count": 5,
   "id": "graduate-priest",
   "metadata": {},
   "outputs": [
    {
     "data": {
      "text/plain": [
       "(27124, 4)"
      ]
     },
     "execution_count": 5,
     "metadata": {},
     "output_type": "execute_result"
    }
   ],
   "source": [
    "id_table.shape"
   ]
  },
  {
   "cell_type": "code",
   "execution_count": 6,
   "id": "duplicate-addition",
   "metadata": {},
   "outputs": [
    {
     "data": {
      "text/html": [
       "<div>\n",
       "<style scoped>\n",
       "    .dataframe tbody tr th:only-of-type {\n",
       "        vertical-align: middle;\n",
       "    }\n",
       "\n",
       "    .dataframe tbody tr th {\n",
       "        vertical-align: top;\n",
       "    }\n",
       "\n",
       "    .dataframe thead th {\n",
       "        text-align: right;\n",
       "    }\n",
       "</style>\n",
       "<table border=\"1\" class=\"dataframe\">\n",
       "  <thead>\n",
       "    <tr style=\"text-align: right;\">\n",
       "      <th></th>\n",
       "      <th>ImageId</th>\n",
       "      <th>Image</th>\n",
       "    </tr>\n",
       "  </thead>\n",
       "  <tbody>\n",
       "    <tr>\n",
       "      <th>0</th>\n",
       "      <td>1</td>\n",
       "      <td>182 183 182 182 180 180 176 169 156 137 124 10...</td>\n",
       "    </tr>\n",
       "    <tr>\n",
       "      <th>1</th>\n",
       "      <td>2</td>\n",
       "      <td>76 87 81 72 65 59 64 76 69 42 31 38 49 58 58 4...</td>\n",
       "    </tr>\n",
       "    <tr>\n",
       "      <th>2</th>\n",
       "      <td>3</td>\n",
       "      <td>177 176 174 170 169 169 168 166 166 166 161 14...</td>\n",
       "    </tr>\n",
       "    <tr>\n",
       "      <th>3</th>\n",
       "      <td>4</td>\n",
       "      <td>176 174 174 175 174 174 176 176 175 171 165 15...</td>\n",
       "    </tr>\n",
       "    <tr>\n",
       "      <th>4</th>\n",
       "      <td>5</td>\n",
       "      <td>50 47 44 101 144 149 120 58 48 42 35 35 37 39 ...</td>\n",
       "    </tr>\n",
       "  </tbody>\n",
       "</table>\n",
       "</div>"
      ],
      "text/plain": [
       "   ImageId                                              Image\n",
       "0        1  182 183 182 182 180 180 176 169 156 137 124 10...\n",
       "1        2  76 87 81 72 65 59 64 76 69 42 31 38 49 58 58 4...\n",
       "2        3  177 176 174 170 169 169 168 166 166 166 161 14...\n",
       "3        4  176 174 174 175 174 174 176 176 175 171 165 15...\n",
       "4        5  50 47 44 101 144 149 120 58 48 42 35 35 37 39 ..."
      ]
     },
     "execution_count": 6,
     "metadata": {},
     "output_type": "execute_result"
    }
   ],
   "source": [
    "test.head()"
   ]
  },
  {
   "cell_type": "code",
   "execution_count": 42,
   "id": "referenced-promise",
   "metadata": {},
   "outputs": [
    {
     "data": {
      "text/html": [
       "<div>\n",
       "<style scoped>\n",
       "    .dataframe tbody tr th:only-of-type {\n",
       "        vertical-align: middle;\n",
       "    }\n",
       "\n",
       "    .dataframe tbody tr th {\n",
       "        vertical-align: top;\n",
       "    }\n",
       "\n",
       "    .dataframe thead th {\n",
       "        text-align: right;\n",
       "    }\n",
       "</style>\n",
       "<table border=\"1\" class=\"dataframe\">\n",
       "  <thead>\n",
       "    <tr style=\"text-align: right;\">\n",
       "      <th></th>\n",
       "      <th>left_eye_center_x</th>\n",
       "      <th>left_eye_center_y</th>\n",
       "      <th>right_eye_center_x</th>\n",
       "      <th>right_eye_center_y</th>\n",
       "      <th>left_eye_inner_corner_x</th>\n",
       "      <th>left_eye_inner_corner_y</th>\n",
       "      <th>left_eye_outer_corner_x</th>\n",
       "      <th>left_eye_outer_corner_y</th>\n",
       "      <th>right_eye_inner_corner_x</th>\n",
       "      <th>right_eye_inner_corner_y</th>\n",
       "      <th>...</th>\n",
       "      <th>nose_tip_x</th>\n",
       "      <th>nose_tip_y</th>\n",
       "      <th>mouth_left_corner_x</th>\n",
       "      <th>mouth_left_corner_y</th>\n",
       "      <th>mouth_right_corner_x</th>\n",
       "      <th>mouth_right_corner_y</th>\n",
       "      <th>mouth_center_top_lip_x</th>\n",
       "      <th>mouth_center_top_lip_y</th>\n",
       "      <th>mouth_center_bottom_lip_x</th>\n",
       "      <th>mouth_center_bottom_lip_y</th>\n",
       "    </tr>\n",
       "  </thead>\n",
       "  <tbody>\n",
       "    <tr>\n",
       "      <th>count</th>\n",
       "      <td>7039.000000</td>\n",
       "      <td>7039.000000</td>\n",
       "      <td>7036.000000</td>\n",
       "      <td>7036.000000</td>\n",
       "      <td>2271.000000</td>\n",
       "      <td>2271.000000</td>\n",
       "      <td>2267.000000</td>\n",
       "      <td>2267.000000</td>\n",
       "      <td>2268.000000</td>\n",
       "      <td>2268.000000</td>\n",
       "      <td>...</td>\n",
       "      <td>7049.000000</td>\n",
       "      <td>7049.000000</td>\n",
       "      <td>2269.000000</td>\n",
       "      <td>2269.000000</td>\n",
       "      <td>2270.000000</td>\n",
       "      <td>2270.000000</td>\n",
       "      <td>2275.000000</td>\n",
       "      <td>2275.000000</td>\n",
       "      <td>7016.000000</td>\n",
       "      <td>7016.000000</td>\n",
       "    </tr>\n",
       "    <tr>\n",
       "      <th>mean</th>\n",
       "      <td>66.359021</td>\n",
       "      <td>37.651234</td>\n",
       "      <td>30.306102</td>\n",
       "      <td>37.976943</td>\n",
       "      <td>59.159339</td>\n",
       "      <td>37.944752</td>\n",
       "      <td>73.330478</td>\n",
       "      <td>37.707008</td>\n",
       "      <td>36.652607</td>\n",
       "      <td>37.989902</td>\n",
       "      <td>...</td>\n",
       "      <td>48.374186</td>\n",
       "      <td>62.715884</td>\n",
       "      <td>63.285735</td>\n",
       "      <td>75.970714</td>\n",
       "      <td>32.900404</td>\n",
       "      <td>76.179768</td>\n",
       "      <td>47.975412</td>\n",
       "      <td>72.919443</td>\n",
       "      <td>48.569472</td>\n",
       "      <td>78.970146</td>\n",
       "    </tr>\n",
       "    <tr>\n",
       "      <th>std</th>\n",
       "      <td>3.448233</td>\n",
       "      <td>3.152926</td>\n",
       "      <td>3.083230</td>\n",
       "      <td>3.033621</td>\n",
       "      <td>2.690354</td>\n",
       "      <td>2.307332</td>\n",
       "      <td>3.405852</td>\n",
       "      <td>2.881438</td>\n",
       "      <td>2.350268</td>\n",
       "      <td>2.311907</td>\n",
       "      <td>...</td>\n",
       "      <td>4.280038</td>\n",
       "      <td>5.720567</td>\n",
       "      <td>4.079063</td>\n",
       "      <td>4.579724</td>\n",
       "      <td>3.964552</td>\n",
       "      <td>4.417814</td>\n",
       "      <td>3.323060</td>\n",
       "      <td>5.222500</td>\n",
       "      <td>4.269961</td>\n",
       "      <td>5.407844</td>\n",
       "    </tr>\n",
       "    <tr>\n",
       "      <th>min</th>\n",
       "      <td>22.763345</td>\n",
       "      <td>1.616512</td>\n",
       "      <td>0.686592</td>\n",
       "      <td>4.091264</td>\n",
       "      <td>19.064954</td>\n",
       "      <td>27.190098</td>\n",
       "      <td>27.571879</td>\n",
       "      <td>26.250023</td>\n",
       "      <td>5.751046</td>\n",
       "      <td>26.250023</td>\n",
       "      <td>...</td>\n",
       "      <td>12.944699</td>\n",
       "      <td>17.932414</td>\n",
       "      <td>22.923362</td>\n",
       "      <td>57.023258</td>\n",
       "      <td>2.245766</td>\n",
       "      <td>56.690208</td>\n",
       "      <td>12.605173</td>\n",
       "      <td>56.719043</td>\n",
       "      <td>12.536477</td>\n",
       "      <td>25.850503</td>\n",
       "    </tr>\n",
       "    <tr>\n",
       "      <th>25%</th>\n",
       "      <td>65.082895</td>\n",
       "      <td>35.900451</td>\n",
       "      <td>28.783339</td>\n",
       "      <td>36.327681</td>\n",
       "      <td>58.039339</td>\n",
       "      <td>36.626283</td>\n",
       "      <td>71.716503</td>\n",
       "      <td>36.085523</td>\n",
       "      <td>35.506126</td>\n",
       "      <td>36.766783</td>\n",
       "      <td>...</td>\n",
       "      <td>46.602370</td>\n",
       "      <td>59.292697</td>\n",
       "      <td>61.257143</td>\n",
       "      <td>72.875707</td>\n",
       "      <td>30.797646</td>\n",
       "      <td>73.256472</td>\n",
       "      <td>46.494571</td>\n",
       "      <td>69.396748</td>\n",
       "      <td>46.573703</td>\n",
       "      <td>75.549715</td>\n",
       "    </tr>\n",
       "    <tr>\n",
       "      <th>50%</th>\n",
       "      <td>66.497566</td>\n",
       "      <td>37.528055</td>\n",
       "      <td>30.251378</td>\n",
       "      <td>37.813273</td>\n",
       "      <td>59.304615</td>\n",
       "      <td>37.878040</td>\n",
       "      <td>73.247824</td>\n",
       "      <td>37.639015</td>\n",
       "      <td>36.651562</td>\n",
       "      <td>37.944075</td>\n",
       "      <td>...</td>\n",
       "      <td>48.424713</td>\n",
       "      <td>63.451421</td>\n",
       "      <td>63.178286</td>\n",
       "      <td>75.778689</td>\n",
       "      <td>32.982305</td>\n",
       "      <td>76.000592</td>\n",
       "      <td>47.905490</td>\n",
       "      <td>72.605173</td>\n",
       "      <td>48.594978</td>\n",
       "      <td>78.696326</td>\n",
       "    </tr>\n",
       "    <tr>\n",
       "      <th>75%</th>\n",
       "      <td>68.024752</td>\n",
       "      <td>39.258449</td>\n",
       "      <td>31.768334</td>\n",
       "      <td>39.566729</td>\n",
       "      <td>60.519810</td>\n",
       "      <td>39.260348</td>\n",
       "      <td>75.015645</td>\n",
       "      <td>39.373489</td>\n",
       "      <td>37.753571</td>\n",
       "      <td>39.192917</td>\n",
       "      <td>...</td>\n",
       "      <td>50.330437</td>\n",
       "      <td>66.492686</td>\n",
       "      <td>65.376243</td>\n",
       "      <td>78.879123</td>\n",
       "      <td>35.101302</td>\n",
       "      <td>78.956357</td>\n",
       "      <td>49.296488</td>\n",
       "      <td>76.221644</td>\n",
       "      <td>50.677631</td>\n",
       "      <td>82.233993</td>\n",
       "    </tr>\n",
       "    <tr>\n",
       "      <th>max</th>\n",
       "      <td>94.689280</td>\n",
       "      <td>80.502649</td>\n",
       "      <td>85.039381</td>\n",
       "      <td>81.270911</td>\n",
       "      <td>84.440991</td>\n",
       "      <td>66.562559</td>\n",
       "      <td>95.258090</td>\n",
       "      <td>64.618230</td>\n",
       "      <td>70.714966</td>\n",
       "      <td>69.808803</td>\n",
       "      <td>...</td>\n",
       "      <td>89.438592</td>\n",
       "      <td>95.935644</td>\n",
       "      <td>84.767123</td>\n",
       "      <td>94.673637</td>\n",
       "      <td>74.017993</td>\n",
       "      <td>95.510678</td>\n",
       "      <td>83.989082</td>\n",
       "      <td>94.548359</td>\n",
       "      <td>89.438592</td>\n",
       "      <td>95.808983</td>\n",
       "    </tr>\n",
       "  </tbody>\n",
       "</table>\n",
       "<p>8 rows × 30 columns</p>\n",
       "</div>"
      ],
      "text/plain": [
       "       left_eye_center_x  left_eye_center_y  right_eye_center_x  \\\n",
       "count        7039.000000        7039.000000         7036.000000   \n",
       "mean           66.359021          37.651234           30.306102   \n",
       "std             3.448233           3.152926            3.083230   \n",
       "min            22.763345           1.616512            0.686592   \n",
       "25%            65.082895          35.900451           28.783339   \n",
       "50%            66.497566          37.528055           30.251378   \n",
       "75%            68.024752          39.258449           31.768334   \n",
       "max            94.689280          80.502649           85.039381   \n",
       "\n",
       "       right_eye_center_y  left_eye_inner_corner_x  left_eye_inner_corner_y  \\\n",
       "count         7036.000000              2271.000000              2271.000000   \n",
       "mean            37.976943                59.159339                37.944752   \n",
       "std              3.033621                 2.690354                 2.307332   \n",
       "min              4.091264                19.064954                27.190098   \n",
       "25%             36.327681                58.039339                36.626283   \n",
       "50%             37.813273                59.304615                37.878040   \n",
       "75%             39.566729                60.519810                39.260348   \n",
       "max             81.270911                84.440991                66.562559   \n",
       "\n",
       "       left_eye_outer_corner_x  left_eye_outer_corner_y  \\\n",
       "count              2267.000000              2267.000000   \n",
       "mean                 73.330478                37.707008   \n",
       "std                   3.405852                 2.881438   \n",
       "min                  27.571879                26.250023   \n",
       "25%                  71.716503                36.085523   \n",
       "50%                  73.247824                37.639015   \n",
       "75%                  75.015645                39.373489   \n",
       "max                  95.258090                64.618230   \n",
       "\n",
       "       right_eye_inner_corner_x  right_eye_inner_corner_y  ...   nose_tip_x  \\\n",
       "count               2268.000000               2268.000000  ...  7049.000000   \n",
       "mean                  36.652607                 37.989902  ...    48.374186   \n",
       "std                    2.350268                  2.311907  ...     4.280038   \n",
       "min                    5.751046                 26.250023  ...    12.944699   \n",
       "25%                   35.506126                 36.766783  ...    46.602370   \n",
       "50%                   36.651562                 37.944075  ...    48.424713   \n",
       "75%                   37.753571                 39.192917  ...    50.330437   \n",
       "max                   70.714966                 69.808803  ...    89.438592   \n",
       "\n",
       "        nose_tip_y  mouth_left_corner_x  mouth_left_corner_y  \\\n",
       "count  7049.000000          2269.000000          2269.000000   \n",
       "mean     62.715884            63.285735            75.970714   \n",
       "std       5.720567             4.079063             4.579724   \n",
       "min      17.932414            22.923362            57.023258   \n",
       "25%      59.292697            61.257143            72.875707   \n",
       "50%      63.451421            63.178286            75.778689   \n",
       "75%      66.492686            65.376243            78.879123   \n",
       "max      95.935644            84.767123            94.673637   \n",
       "\n",
       "       mouth_right_corner_x  mouth_right_corner_y  mouth_center_top_lip_x  \\\n",
       "count           2270.000000           2270.000000             2275.000000   \n",
       "mean              32.900404             76.179768               47.975412   \n",
       "std                3.964552              4.417814                3.323060   \n",
       "min                2.245766             56.690208               12.605173   \n",
       "25%               30.797646             73.256472               46.494571   \n",
       "50%               32.982305             76.000592               47.905490   \n",
       "75%               35.101302             78.956357               49.296488   \n",
       "max               74.017993             95.510678               83.989082   \n",
       "\n",
       "       mouth_center_top_lip_y  mouth_center_bottom_lip_x  \\\n",
       "count             2275.000000                7016.000000   \n",
       "mean                72.919443                  48.569472   \n",
       "std                  5.222500                   4.269961   \n",
       "min                 56.719043                  12.536477   \n",
       "25%                 69.396748                  46.573703   \n",
       "50%                 72.605173                  48.594978   \n",
       "75%                 76.221644                  50.677631   \n",
       "max                 94.548359                  89.438592   \n",
       "\n",
       "       mouth_center_bottom_lip_y  \n",
       "count                7016.000000  \n",
       "mean                   78.970146  \n",
       "std                     5.407844  \n",
       "min                    25.850503  \n",
       "25%                    75.549715  \n",
       "50%                    78.696326  \n",
       "75%                    82.233993  \n",
       "max                    95.808983  \n",
       "\n",
       "[8 rows x 30 columns]"
      ]
     },
     "execution_count": 42,
     "metadata": {},
     "output_type": "execute_result"
    }
   ],
   "source": [
    "training.describe()"
   ]
  },
  {
   "cell_type": "code",
   "execution_count": 15,
   "id": "affected-august",
   "metadata": {},
   "outputs": [
    {
     "data": {
      "text/plain": [
       "Index(['left_eye_center_x', 'left_eye_center_y', 'right_eye_center_x',\n",
       "       'right_eye_center_y', 'left_eye_inner_corner_x',\n",
       "       'left_eye_inner_corner_y', 'left_eye_outer_corner_x',\n",
       "       'left_eye_outer_corner_y', 'right_eye_inner_corner_x',\n",
       "       'right_eye_inner_corner_y', 'right_eye_outer_corner_x',\n",
       "       'right_eye_outer_corner_y', 'left_eyebrow_inner_end_x',\n",
       "       'left_eyebrow_inner_end_y', 'left_eyebrow_outer_end_x',\n",
       "       'left_eyebrow_outer_end_y', 'right_eyebrow_inner_end_x',\n",
       "       'right_eyebrow_inner_end_y', 'right_eyebrow_outer_end_x',\n",
       "       'right_eyebrow_outer_end_y', 'nose_tip_x', 'nose_tip_y',\n",
       "       'mouth_left_corner_x', 'mouth_left_corner_y', 'mouth_right_corner_x',\n",
       "       'mouth_right_corner_y', 'mouth_center_top_lip_x',\n",
       "       'mouth_center_top_lip_y', 'mouth_center_bottom_lip_x',\n",
       "       'mouth_center_bottom_lip_y', 'Image'],\n",
       "      dtype='object')"
      ]
     },
     "execution_count": 15,
     "metadata": {},
     "output_type": "execute_result"
    }
   ],
   "source": [
    "training.columns"
   ]
  },
  {
   "cell_type": "code",
   "execution_count": 9,
   "id": "victorian-warner",
   "metadata": {},
   "outputs": [
    {
     "data": {
      "text/html": [
       "<div>\n",
       "<style scoped>\n",
       "    .dataframe tbody tr th:only-of-type {\n",
       "        vertical-align: middle;\n",
       "    }\n",
       "\n",
       "    .dataframe tbody tr th {\n",
       "        vertical-align: top;\n",
       "    }\n",
       "\n",
       "    .dataframe thead th {\n",
       "        text-align: right;\n",
       "    }\n",
       "</style>\n",
       "<table border=\"1\" class=\"dataframe\">\n",
       "  <thead>\n",
       "    <tr style=\"text-align: right;\">\n",
       "      <th></th>\n",
       "      <th>RowId</th>\n",
       "      <th>ImageId</th>\n",
       "      <th>FeatureName</th>\n",
       "      <th>Location</th>\n",
       "    </tr>\n",
       "  </thead>\n",
       "  <tbody>\n",
       "    <tr>\n",
       "      <th>0</th>\n",
       "      <td>1</td>\n",
       "      <td>1</td>\n",
       "      <td>left_eye_center_x</td>\n",
       "      <td>NaN</td>\n",
       "    </tr>\n",
       "    <tr>\n",
       "      <th>1</th>\n",
       "      <td>2</td>\n",
       "      <td>1</td>\n",
       "      <td>left_eye_center_y</td>\n",
       "      <td>NaN</td>\n",
       "    </tr>\n",
       "    <tr>\n",
       "      <th>2</th>\n",
       "      <td>3</td>\n",
       "      <td>1</td>\n",
       "      <td>right_eye_center_x</td>\n",
       "      <td>NaN</td>\n",
       "    </tr>\n",
       "    <tr>\n",
       "      <th>3</th>\n",
       "      <td>4</td>\n",
       "      <td>1</td>\n",
       "      <td>right_eye_center_y</td>\n",
       "      <td>NaN</td>\n",
       "    </tr>\n",
       "    <tr>\n",
       "      <th>4</th>\n",
       "      <td>5</td>\n",
       "      <td>1</td>\n",
       "      <td>left_eye_inner_corner_x</td>\n",
       "      <td>NaN</td>\n",
       "    </tr>\n",
       "    <tr>\n",
       "      <th>...</th>\n",
       "      <td>...</td>\n",
       "      <td>...</td>\n",
       "      <td>...</td>\n",
       "      <td>...</td>\n",
       "    </tr>\n",
       "    <tr>\n",
       "      <th>27119</th>\n",
       "      <td>27120</td>\n",
       "      <td>1783</td>\n",
       "      <td>right_eye_center_y</td>\n",
       "      <td>NaN</td>\n",
       "    </tr>\n",
       "    <tr>\n",
       "      <th>27120</th>\n",
       "      <td>27121</td>\n",
       "      <td>1783</td>\n",
       "      <td>nose_tip_x</td>\n",
       "      <td>NaN</td>\n",
       "    </tr>\n",
       "    <tr>\n",
       "      <th>27121</th>\n",
       "      <td>27122</td>\n",
       "      <td>1783</td>\n",
       "      <td>nose_tip_y</td>\n",
       "      <td>NaN</td>\n",
       "    </tr>\n",
       "    <tr>\n",
       "      <th>27122</th>\n",
       "      <td>27123</td>\n",
       "      <td>1783</td>\n",
       "      <td>mouth_center_bottom_lip_x</td>\n",
       "      <td>NaN</td>\n",
       "    </tr>\n",
       "    <tr>\n",
       "      <th>27123</th>\n",
       "      <td>27124</td>\n",
       "      <td>1783</td>\n",
       "      <td>mouth_center_bottom_lip_y</td>\n",
       "      <td>NaN</td>\n",
       "    </tr>\n",
       "  </tbody>\n",
       "</table>\n",
       "<p>27124 rows × 4 columns</p>\n",
       "</div>"
      ],
      "text/plain": [
       "       RowId  ImageId                FeatureName  Location\n",
       "0          1        1          left_eye_center_x       NaN\n",
       "1          2        1          left_eye_center_y       NaN\n",
       "2          3        1         right_eye_center_x       NaN\n",
       "3          4        1         right_eye_center_y       NaN\n",
       "4          5        1    left_eye_inner_corner_x       NaN\n",
       "...      ...      ...                        ...       ...\n",
       "27119  27120     1783         right_eye_center_y       NaN\n",
       "27120  27121     1783                 nose_tip_x       NaN\n",
       "27121  27122     1783                 nose_tip_y       NaN\n",
       "27122  27123     1783  mouth_center_bottom_lip_x       NaN\n",
       "27123  27124     1783  mouth_center_bottom_lip_y       NaN\n",
       "\n",
       "[27124 rows x 4 columns]"
      ]
     },
     "execution_count": 9,
     "metadata": {},
     "output_type": "execute_result"
    }
   ],
   "source": [
    "id_table"
   ]
  },
  {
   "cell_type": "markdown",
   "id": "diverse-tracy",
   "metadata": {},
   "source": [
    "## Image sample of train & test"
   ]
  },
  {
   "cell_type": "code",
   "execution_count": 39,
   "id": "racial-turkey",
   "metadata": {},
   "outputs": [
    {
     "data": {
      "text/plain": [
       "<matplotlib.image.AxesImage at 0x7f9464d1faf0>"
      ]
     },
     "execution_count": 39,
     "metadata": {},
     "output_type": "execute_result"
    },
    {
     "data": {
      "image/png": "[encoded data removed]",
      "text/plain": [
       "<Figure size 640x480 with 1 Axes>"
      ]
     },
     "metadata": {},
     "output_type": "display_data"
    }
   ],
   "source": [
    "string = training.iloc[0,30]\n",
    "\n",
    "image = np.fromstring(string, dtype=int, sep=' ')\n",
    "\n",
    "image = np.reshape(image, (96, 96))\n",
    "\n",
    "plt.imshow(image)"
   ]
  },
  {
   "cell_type": "code",
   "execution_count": 41,
   "id": "secret-madrid",
   "metadata": {},
   "outputs": [
    {
     "data": {
      "text/plain": [
       "<matplotlib.image.AxesImage at 0x7f9464feea60>"
      ]
     },
     "execution_count": 41,
     "metadata": {},
     "output_type": "execute_result"
    },
    {
     "data": {
      "image/png": "[encoded data removed]",
      "text/plain": [
       "<Figure size 640x480 with 1 Axes>"
      ]
     },
     "metadata": {},
     "output_type": "display_data"
    }
   ],
   "source": [
    "string = test.iloc[0,1]\n",
    "\n",
    "image = np.fromstring(string, dtype=int, sep=' ')\n",
    "\n",
    "image = np.reshape(image, (96, 96))\n",
    "\n",
    "plt.imshow(image)"
   ]
  },
  {
   "cell_type": "markdown",
   "id": "rotary-button",
   "metadata": {},
   "source": [
    "##  Save Train_Data"
   ]
  },
  {
   "cell_type": "code",
   "execution_count": 5,
   "id": "funded-least",
   "metadata": {},
   "outputs": [
    {
     "data": {
      "text/plain": [
       "(2140, 31)"
      ]
     },
     "execution_count": 5,
     "metadata": {},
     "output_type": "execute_result"
    }
   ],
   "source": [
    "# Filter out the data from train that is missing values (NaN)\n",
    "filtered_training = training.dropna()\n",
    "filtered_training.shape"
   ]
  },
  {
   "cell_type": "code",
   "execution_count": 105,
   "id": "utility-livestock",
   "metadata": {},
   "outputs": [],
   "source": [
    "def StringtoArray(pd_string, reshape = True):\n",
    "    '''\n",
    "    Function to store all string info form the panda dataframe image column to np array format,\n",
    "    reshape to decide if each array is reshaped to 96x96 or not.'''\n",
    "    image_data = []\n",
    "    \n",
    "    if reshape: \n",
    "        for i in range(len(pd_string)):\n",
    "            image_array = np.fromstring(pd_string.iloc[i,-1], dtype=int, sep=' ')  # string to 1D array\n",
    "            image_array = np.reshape(image_array, (96, 96))  # 1D array to 2D array\n",
    "            image_data.append(image_array)  # 3D\n",
    "            \n",
    "    else:\n",
    "        for i in range(len(pd_string)):\n",
    "            image_array = np.fromstring(pd_string.iloc[i,-1], dtype=int, sep=' ')  # string to 1D array\n",
    "            image_data.append(image_array) # 2D\n",
    "            \n",
    "            \n",
    "    image_data = np.array(image_data)  # list to array\n",
    "           \n",
    "    return image_data\n",
    "        \n",
    "    \n",
    "def NPY_show(train_data):\n",
    "    '''\n",
    "    Function to display a random face image from the npy load data\n",
    "    '''\n",
    "    #fig, ax = plt.subplots(figsize=(96, 96))\n",
    "    \n",
    "    if len(train_data.shape) == 1:\n",
    "        image = np.reshape(train_data, (96, 96))  #reshape to 2D array\n",
    "    else:\n",
    "        image = train_data\n",
    "        \n",
    "        \n",
    "    plt.imshow(image)\n",
    "    plt.axis('off')\n",
    "    \n",
    "    \n",
    "def NPY_feature_show(train_data, train_labels):\n",
    "    '''\n",
    "    Function to display a random face image with face detection marks from the npy load data\n",
    "    '''\n",
    "    #fig, ax = plt.subplots(figsize=(96, 96))\n",
    "    \n",
    "    if len(train_data.shape) == 1:\n",
    "        image = np.reshape(train_data, (96, 96))  #reshape to 2D array\n",
    "    else:\n",
    "        image = train_data\n",
    "        \n",
    "        \n",
    "    plt.imshow(image)\n",
    "    plt.scatter(train_labels[0], train_labels[1], s=20, c = 'y') # left eye center\n",
    "    plt.scatter(train_labels[2], train_labels[3], s=20, c = 'b') #right eye center\n",
    "    \n",
    "    plt.scatter(train_labels[4:8:2], train_labels[5:9:2], s=20, c = 'y', marker = '^') #left eye  4, 6\n",
    "    plt.scatter(train_labels[8:12:2], train_labels[9:13:2], s=20, c = 'b', marker = '^') #right eye  8,10\n",
    "    \n",
    "    plt.scatter(train_labels[12:16:2], train_labels[13:17:2], s=20, c = 'w') #left eyebow 12,14\n",
    "    plt.scatter(train_labels[16:20:2], train_labels[17:21:2], s=20, c = 'k') #right eyebow 16,18\n",
    "    \n",
    "    plt.scatter(train_labels[20], train_labels[21], s=20, c = 'r') # nose \n",
    "    plt.scatter(train_labels[22:30:2], train_labels[23:31:2], s=20, c = 'm')  # mouth\n",
    "    "
   ]
  },
  {
   "cell_type": "code",
   "execution_count": 15,
   "id": "executive-proxy",
   "metadata": {},
   "outputs": [
    {
     "data": {
      "text/plain": [
       "(2140, 9216)"
      ]
     },
     "execution_count": 15,
     "metadata": {},
     "output_type": "execute_result"
    }
   ],
   "source": [
    "train_data = StringtoArray(filtered_training, False)\n",
    "train_data.shape"
   ]
  },
  {
   "cell_type": "code",
   "execution_count": 32,
   "id": "robust-manufacturer",
   "metadata": {},
   "outputs": [],
   "source": [
    "save('data/train_data.npy', train_data)\n",
    "#save('train_labels.npy', train_labels)"
   ]
  },
  {
   "cell_type": "markdown",
   "id": "annoying-commander",
   "metadata": {},
   "source": [
    "##  Display image sample from npy "
   ]
  },
  {
   "cell_type": "code",
   "execution_count": 54,
   "id": "surface-liberty",
   "metadata": {},
   "outputs": [
    {
     "data": {
      "image/png": "[encoded data removed]",
      "text/plain": [
       "<Figure size 640x480 with 1 Axes>"
      ]
     },
     "metadata": {},
     "output_type": "display_data"
    }
   ],
   "source": [
    "load_data = load('data/train_data.npy')\n",
    "i = random.randint(0, len(load_data))\n",
    "NPY_show(load_data[i])"
   ]
  },
  {
   "cell_type": "markdown",
   "id": "neural-pizza",
   "metadata": {},
   "source": [
    "##  Save Train_labels"
   ]
  },
  {
   "cell_type": "code",
   "execution_count": 56,
   "id": "complete-steps",
   "metadata": {},
   "outputs": [
    {
     "name": "stdout",
     "output_type": "stream",
     "text": [
      "(2140, 30)\n"
     ]
    }
   ],
   "source": [
    "train_labels = filtered_training.iloc[:,:-1].to_numpy()\n",
    "print(train_labels.shape)\n",
    "save('data/train_labels.npy', train_labels)"
   ]
  },
  {
   "cell_type": "code",
   "execution_count": 57,
   "id": "found-brunei",
   "metadata": {},
   "outputs": [
    {
     "data": {
      "text/plain": [
       "array([66.03356391, 39.00227368, 30.22700752, 36.4216782 , 59.58207519,\n",
       "       39.64742256, 73.13034586, 39.96999699, 36.35657143, 37.3894015 ,\n",
       "       23.45287218, 37.3894015 , 56.95326316, 29.03364812, 80.22712782,\n",
       "       32.22813835, 40.22760902, 29.0023218 , 16.35637895, 29.64747068,\n",
       "       44.42057143, 57.06680301, 61.19530827, 79.97016541, 28.61449624,\n",
       "       77.38899248, 43.3126015 , 72.93545865, 43.13070677, 84.48577444])"
      ]
     },
     "execution_count": 57,
     "metadata": {},
     "output_type": "execute_result"
    }
   ],
   "source": [
    "train_labels[0]"
   ]
  },
  {
   "cell_type": "markdown",
   "id": "collaborative-dating",
   "metadata": {},
   "source": [
    "## Display mage sample with face detection from npy"
   ]
  },
  {
   "cell_type": "code",
   "execution_count": 58,
   "id": "talented-maine",
   "metadata": {},
   "outputs": [
    {
     "name": "stdout",
     "output_type": "stream",
     "text": [
      "[66.32123077 37.36923077 31.39384615 39.01969231 59.44615385 39.01969231\n",
      " 73.472      38.19446154 37.71938462 40.11938462 23.96861538 41.49476923\n",
      " 58.07076923 28.01864615 78.69723077 31.59390769 38.81969231 29.94381538\n",
      " 17.91815385 34.89415385 51.19569231 55.52061538 66.59630769 73.39692308\n",
      " 37.16923077 75.04738462 50.64553846 68.44676923 50.92061538 81.37230769]\n"
     ]
    }
   ],
   "source": [
    "load_labels = load('data/train_labels.npy')\n",
    "i = random.randint(0, len(load_labels))\n",
    "print(load_labels[i])"
   ]
  },
  {
   "cell_type": "code",
   "execution_count": 107,
   "id": "following-patient",
   "metadata": {},
   "outputs": [
    {
     "data": {
      "image/png": "[encoded data removed]",
      "text/plain": [
       "<Figure size 640x480 with 1 Axes>"
      ]
     },
     "metadata": {},
     "output_type": "display_data"
    }
   ],
   "source": [
    "NPY_feature_show(load_data[i], load_labels[i])"
   ]
  },
  {
   "cell_type": "code",
   "execution_count": null,
   "id": "agricultural-voluntary",
   "metadata": {},
   "outputs": [],
   "source": []
  }
 ],
 "metadata": {
  "kernelspec": {
   "display_name": "Python 3",
   "language": "python",
   "name": "python3"
  },
  "language_info": {
   "codemirror_mode": {
    "name": "ipython",
    "version": 3
   },
   "file_extension": ".py",
   "mimetype": "text/x-python",
   "name": "python",
   "nbconvert_exporter": "python",
   "pygments_lexer": "ipython3",
   "version": "3.8.2"
  }
 },
 "nbformat": 4,
 "nbformat_minor": 5
}
